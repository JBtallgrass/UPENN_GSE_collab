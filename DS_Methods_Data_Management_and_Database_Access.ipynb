{
  "cells": [
    {
      "cell_type": "markdown",
      "metadata": {
        "id": "view-in-github",
        "colab_type": "text"
      },
      "source": [
        "<a href=\"https://colab.research.google.com/github/JBtallgrass/UPENN_GSE_collab/blob/main/DS_Methods_Data_Management_and_Database_Access.ipynb\" target=\"_parent\"><img src=\"https://colab.research.google.com/assets/colab-badge.svg\" alt=\"Open In Colab\"/></a>"
      ]
    },
    {
      "cell_type": "markdown",
      "id": "8f0db8f8",
      "metadata": {
        "id": "8f0db8f8"
      },
      "source": [
        "# DS Methods - Data Management and Database Access Notebook"
      ]
    },
    {
      "cell_type": "markdown",
      "id": "d293ca28",
      "metadata": {
        "id": "d293ca28"
      },
      "source": [
        "######"
      ]
    },
    {
      "cell_type": "markdown",
      "id": "fdbd6a6e",
      "metadata": {
        "id": "fdbd6a6e"
      },
      "source": [
        "## 1. Connecting to MySQL and Querying Data with MySQL Connector"
      ]
    },
    {
      "cell_type": "markdown",
      "id": "8c25c711",
      "metadata": {
        "id": "8c25c711"
      },
      "source": [
        "### 1.1 Install the MySQL Connector Package"
      ]
    },
    {
      "cell_type": "code",
      "execution_count": null,
      "id": "1b9ca007",
      "metadata": {
        "id": "1b9ca007",
        "outputId": "681c0c40-36bd-4e50-9b4e-531c07d6b7c3",
        "colab": {
          "base_uri": "https://localhost:8080/"
        }
      },
      "outputs": [
        {
          "output_type": "stream",
          "name": "stdout",
          "text": [
            "Collecting mysql-connector-python\n",
            "  Downloading mysql_connector_python-8.3.0-cp310-cp310-manylinux_2_17_x86_64.whl (21.5 MB)\n",
            "\u001b[2K     \u001b[90m━━━━━━━━━━━━━━━━━━━━━━━━━━━━━━━━━━━━━━━━\u001b[0m \u001b[32m21.5/21.5 MB\u001b[0m \u001b[31m35.5 MB/s\u001b[0m eta \u001b[36m0:00:00\u001b[0m\n",
            "\u001b[?25hInstalling collected packages: mysql-connector-python\n",
            "Successfully installed mysql-connector-python-8.3.0\n"
          ]
        }
      ],
      "source": [
        "!pip install mysql-connector-python"
      ]
    },
    {
      "cell_type": "markdown",
      "id": "9344dbad",
      "metadata": {
        "id": "9344dbad"
      },
      "source": [
        "### 1.2 Import MySQL Connector"
      ]
    },
    {
      "cell_type": "code",
      "execution_count": null,
      "id": "b7165ee8",
      "metadata": {
        "id": "b7165ee8"
      },
      "outputs": [],
      "source": [
        "import mysql.connector"
      ]
    },
    {
      "cell_type": "markdown",
      "id": "a2719bbd",
      "metadata": {
        "id": "a2719bbd"
      },
      "source": [
        "### 1.3 Connect to MySQL by providing the connection parameters:\n",
        "    - usename: dsmethods_student\n",
        "    - password: dsmethods_student\n",
        "    - host: dsmethods-sample-database.ckpjakz3adxb.us-east-2.rds.amazonaws.com\n",
        "    - database: employees"
      ]
    },
    {
      "cell_type": "code",
      "execution_count": null,
      "id": "8df5ec46",
      "metadata": {
        "id": "8df5ec46"
      },
      "outputs": [],
      "source": [
        "cnx = mysql.connector.connect(user=\"dsmethods_student\", password=\"dsmethods_student\", host=\"dsmethods-sample-database.ckpjakz3adxb.us-east-2.rds.amazonaws.com\", database=\"employees\")"
      ]
    },
    {
      "cell_type": "markdown",
      "id": "231fad4f",
      "metadata": {
        "id": "231fad4f"
      },
      "source": [
        "### 1.4 Let's run the same queries as before:"
      ]
    },
    {
      "cell_type": "markdown",
      "id": "55d7f0c1",
      "metadata": {
        "id": "55d7f0c1"
      },
      "source": [
        "#### 1.4.1 How many employees?"
      ]
    },
    {
      "cell_type": "code",
      "execution_count": null,
      "id": "cb680c86",
      "metadata": {
        "id": "cb680c86"
      },
      "outputs": [],
      "source": [
        "cursor = cnx.cursor()"
      ]
    },
    {
      "cell_type": "code",
      "execution_count": null,
      "id": "b840fea7",
      "metadata": {
        "id": "b840fea7"
      },
      "outputs": [],
      "source": [
        "query = (\"select count(*) from employees;\")"
      ]
    },
    {
      "cell_type": "code",
      "execution_count": null,
      "id": "1d2b465e",
      "metadata": {
        "id": "1d2b465e"
      },
      "outputs": [],
      "source": [
        "cursor.execute(query)"
      ]
    },
    {
      "cell_type": "code",
      "execution_count": null,
      "id": "2722d6b2",
      "metadata": {
        "id": "2722d6b2"
      },
      "outputs": [],
      "source": [
        "for result in cursor:\n",
        "    assert result[0] == 300024"
      ]
    },
    {
      "cell_type": "markdown",
      "id": "150cf655",
      "metadata": {
        "id": "150cf655"
      },
      "source": [
        "#### 1.4.2 How many departments?"
      ]
    },
    {
      "cell_type": "code",
      "execution_count": null,
      "id": "1050fdb2",
      "metadata": {
        "id": "1050fdb2"
      },
      "outputs": [],
      "source": [
        "query = (\"select count(8) from departments;\")"
      ]
    },
    {
      "cell_type": "code",
      "execution_count": null,
      "id": "66ce8687",
      "metadata": {
        "id": "66ce8687"
      },
      "outputs": [],
      "source": [
        "cursor.execute(query)"
      ]
    },
    {
      "cell_type": "code",
      "execution_count": null,
      "id": "08a92d87",
      "metadata": {
        "id": "08a92d87"
      },
      "outputs": [],
      "source": [
        "for result in cursor:\n",
        "    assert result[0] == 9"
      ]
    },
    {
      "cell_type": "markdown",
      "id": "c7fa260b",
      "metadata": {
        "id": "c7fa260b"
      },
      "source": [
        "#### 1.4.3 How many unique first names"
      ]
    },
    {
      "cell_type": "code",
      "execution_count": null,
      "id": "e217b397",
      "metadata": {
        "id": "e217b397"
      },
      "outputs": [],
      "source": [
        "query = (\"select count(distinct(first_name)) from employees;\")"
      ]
    },
    {
      "cell_type": "code",
      "execution_count": null,
      "id": "169f520f",
      "metadata": {
        "id": "169f520f"
      },
      "outputs": [],
      "source": [
        "cursor.execute(query)"
      ]
    },
    {
      "cell_type": "code",
      "execution_count": null,
      "id": "049bc571",
      "metadata": {
        "id": "049bc571"
      },
      "outputs": [],
      "source": [
        "for result in cursor:\n",
        "    assert result[0] == 1275"
      ]
    },
    {
      "cell_type": "markdown",
      "id": "5f078dcb",
      "metadata": {
        "id": "5f078dcb"
      },
      "source": [
        "#### 1.4.4 Get the employee id with the highest salary"
      ]
    },
    {
      "cell_type": "code",
      "execution_count": null,
      "id": "ec8132b7",
      "metadata": {
        "id": "ec8132b7"
      },
      "outputs": [],
      "source": [
        "query = (\"select emp_no from salaries order by salary desc limit 1;\")"
      ]
    },
    {
      "cell_type": "code",
      "execution_count": null,
      "id": "2a4e820a",
      "metadata": {
        "id": "2a4e820a"
      },
      "outputs": [],
      "source": [
        "cursor.execute(query)"
      ]
    },
    {
      "cell_type": "code",
      "execution_count": null,
      "id": "e9ecab22",
      "metadata": {
        "id": "e9ecab22"
      },
      "outputs": [],
      "source": [
        "for result in cursor:\n",
        "    assert result[0] == 43624"
      ]
    },
    {
      "cell_type": "markdown",
      "id": "60d0a79f",
      "metadata": {
        "id": "60d0a79f"
      },
      "source": [
        "#### 1.4.5 Who is the highest paid employee in the entire organization?"
      ]
    },
    {
      "cell_type": "code",
      "execution_count": null,
      "id": "0283cbdd",
      "metadata": {
        "id": "0283cbdd"
      },
      "outputs": [],
      "source": [
        "query = (\"select * from employees where emp_no = (select emp_no from salaries order by salary desc limit 1);\")"
      ]
    },
    {
      "cell_type": "code",
      "execution_count": null,
      "id": "4ac5c252",
      "metadata": {
        "id": "4ac5c252"
      },
      "outputs": [],
      "source": [
        "cursor.execute(query)"
      ]
    },
    {
      "cell_type": "code",
      "execution_count": null,
      "id": "75e8c097",
      "metadata": {
        "id": "75e8c097"
      },
      "outputs": [],
      "source": [
        "for (_,_,first_name,last_name,_,_) in cursor:\n",
        "    assert first_name + ' ' + last_name == 'Tokuyasu Pesch'"
      ]
    },
    {
      "cell_type": "markdown",
      "id": "fe436f6a",
      "metadata": {
        "id": "fe436f6a"
      },
      "source": [
        "#"
      ]
    }
  ],
  "metadata": {
    "kernelspec": {
      "display_name": "Python 3 (ipykernel)",
      "language": "python",
      "name": "python3"
    },
    "language_info": {
      "codemirror_mode": {
        "name": "ipython",
        "version": 3
      },
      "file_extension": ".py",
      "mimetype": "text/x-python",
      "name": "python",
      "nbconvert_exporter": "python",
      "pygments_lexer": "ipython3",
      "version": "3.9.6"
    },
    "colab": {
      "provenance": [],
      "include_colab_link": true
    }
  },
  "nbformat": 4,
  "nbformat_minor": 5
}